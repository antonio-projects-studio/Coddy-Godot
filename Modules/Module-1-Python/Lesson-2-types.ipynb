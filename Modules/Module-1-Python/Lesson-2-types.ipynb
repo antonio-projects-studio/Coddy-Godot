{
 "cells": [
  {
   "cell_type": "markdown",
   "metadata": {},
   "source": [
    "# Типы данных"
   ]
  },
  {
   "cell_type": "markdown",
   "metadata": {},
   "source": [
    "Какие бывают типы данных?\n",
    "\n",
    "- *int* - целый\n",
    "- *str* - строки\n",
    "- *float* - нецелые\n",
    "- *bool* - True/False\n",
    "- *None* - ничего \n",
    "- *list* - списки\n",
    "- *dict* - словарь"
   ]
  },
  {
   "cell_type": "markdown",
   "metadata": {},
   "source": [
    "## List"
   ]
  },
  {
   "cell_type": "markdown",
   "metadata": {},
   "source": [
    "Может хранить **любой** тип данных"
   ]
  },
  {
   "cell_type": "code",
   "execution_count": 2,
   "metadata": {},
   "outputs": [
    {
     "name": "stdout",
     "output_type": "stream",
     "text": [
      "1\n"
     ]
    }
   ],
   "source": [
    "array = [1, \"str\", [1, 2, 3], True, 10.5]\n",
    "\n",
    "# к элементу массива можно обращаться по индексу, начиная с 0\n",
    "\n",
    "print(array[0])"
   ]
  },
  {
   "cell_type": "markdown",
   "metadata": {},
   "source": [
    "Теперь напишем программу, которая выводит все элементы списка"
   ]
  },
  {
   "cell_type": "code",
   "execution_count": 3,
   "metadata": {},
   "outputs": [
    {
     "name": "stdout",
     "output_type": "stream",
     "text": [
      "1\n",
      "str\n",
      "[1, 2, 3]\n",
      "True\n",
      "10.5\n"
     ]
    }
   ],
   "source": [
    "# первый способ - с помощью цикла for\n",
    "\n",
    "for x in array:\n",
    "    print(x)"
   ]
  },
  {
   "cell_type": "markdown",
   "metadata": {},
   "source": [
    "В for часто используют перебор всех чисел от какого числа до другого, для этого используется *range*"
   ]
  },
  {
   "cell_type": "code",
   "execution_count": 7,
   "metadata": {},
   "outputs": [
    {
     "name": "stdout",
     "output_type": "stream",
     "text": [
      "0\n",
      "1\n",
      "2\n",
      "3\n",
      "4\n"
     ]
    }
   ],
   "source": [
    "for i in range(5):\n",
    "    print(i)"
   ]
  },
  {
   "cell_type": "code",
   "execution_count": 13,
   "metadata": {},
   "outputs": [
    {
     "name": "stdout",
     "output_type": "stream",
     "text": [
      "Индекс - 0. Элемент под этим индексом в массиве - 1\n",
      "Индекс - 1. Элемент под этим индексом в массиве - str\n",
      "Индекс - 2. Элемент под этим индексом в массиве - [1, 2, 3]\n",
      "Индекс - 3. Элемент под этим индексом в массиве - True\n",
      "Индекс - 4. Элемент под этим индексом в массиве - 10.5\n"
     ]
    }
   ],
   "source": [
    "# второй способ - с помощью цикла for, НО! обращаться по индексу\n",
    "\n",
    "for i in range(len(array)):\n",
    "    print('Индекс - ', i, '. Элемент под этим индексом в массиве - ', array[i], sep='')"
   ]
  },
  {
   "cell_type": "markdown",
   "metadata": {},
   "source": [
    "## Dict"
   ]
  },
  {
   "cell_type": "markdown",
   "metadata": {},
   "source": [
    "Благодаря словарю может получать элемент за единицу времени\n",
    "\n",
    "- Ключи должны быть **уникальные**"
   ]
  },
  {
   "cell_type": "code",
   "execution_count": 14,
   "metadata": {},
   "outputs": [],
   "source": [
    "voc = {'key1': 5, 'key2': [1, 2, 3], 'key3': 'str'}\n",
    "\n",
    "# voc = dict(key1=5, key2=[1, 2, 3], key3='str')"
   ]
  },
  {
   "cell_type": "markdown",
   "metadata": {},
   "source": [
    "Как вывести все элементы словаря?"
   ]
  },
  {
   "cell_type": "code",
   "execution_count": 17,
   "metadata": {},
   "outputs": [
    {
     "name": "stdout",
     "output_type": "stream",
     "text": [
      "Ключ: key1 Значение: 5\n",
      "Ключ: key2 Значение: [1, 2, 3]\n",
      "Ключ: key3 Значение: str\n"
     ]
    }
   ],
   "source": [
    "# первый и основной способ с помощью for\n",
    "\n",
    "for key, val in voc.items():\n",
    "    # voc.items() выглядит страшно, почему обращаемся через точку? На самом деле это класс, но об этом на следующих уроках\n",
    "    \n",
    "    print('Ключ:', key, 'Значение:', val)"
   ]
  },
  {
   "cell_type": "code",
   "execution_count": 18,
   "metadata": {},
   "outputs": [
    {
     "name": "stdout",
     "output_type": "stream",
     "text": [
      "Ключ: key1\n",
      "Ключ: key2\n",
      "Ключ: key3\n"
     ]
    }
   ],
   "source": [
    "for key in voc.keys():\n",
    "    print('Ключ:', key)"
   ]
  },
  {
   "cell_type": "code",
   "execution_count": 20,
   "metadata": {},
   "outputs": [
    {
     "name": "stdout",
     "output_type": "stream",
     "text": [
      "Значение: 5\n",
      "Значение: [1, 2, 3]\n",
      "Значение: str\n"
     ]
    }
   ],
   "source": [
    "for val in voc.values():\n",
    "    print('Значение:', val)"
   ]
  }
 ],
 "metadata": {
  "kernelspec": {
   "display_name": "sites_new",
   "language": "python",
   "name": "sites_new"
  },
  "language_info": {
   "codemirror_mode": {
    "name": "ipython",
    "version": 3
   },
   "file_extension": ".py",
   "mimetype": "text/x-python",
   "name": "python",
   "nbconvert_exporter": "python",
   "pygments_lexer": "ipython3",
   "version": "3.10.12"
  }
 },
 "nbformat": 4,
 "nbformat_minor": 2
}
