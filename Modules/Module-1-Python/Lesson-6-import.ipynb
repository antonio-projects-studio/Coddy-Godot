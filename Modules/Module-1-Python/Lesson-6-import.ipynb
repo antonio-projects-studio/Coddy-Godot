{
 "cells": [
  {
   "cell_type": "code",
   "execution_count": 7,
   "metadata": {},
   "outputs": [],
   "source": [
    "from ipynb_settings import *"
   ]
  },
  {
   "cell_type": "markdown",
   "metadata": {},
   "source": [
    "# Импорт библиотек и файлов"
   ]
  },
  {
   "cell_type": "markdown",
   "metadata": {},
   "source": [
    "## Импорт файлов"
   ]
  },
  {
   "cell_type": "markdown",
   "metadata": {},
   "source": [
    "- Синтаксис:\n",
    "```python\n",
    "from <name_of_file> import <objects>\n",
    "```"
   ]
  },
  {
   "cell_type": "markdown",
   "metadata": {},
   "source": [
    "- В `file1.py` создали переменную $a = 10$. Наша задача получить её в `file2.py`"
   ]
  },
  {
   "cell_type": "code",
   "execution_count": null,
   "metadata": {},
   "outputs": [],
   "source": [
    "#file1.py\n",
    "a = 10"
   ]
  },
  {
   "cell_type": "code",
   "execution_count": 3,
   "metadata": {},
   "outputs": [
    {
     "name": "stdout",
     "output_type": "stream",
     "text": [
      "10\n"
     ]
    }
   ],
   "source": [
    "#file2.py\n",
    "from file1 import a\n",
    "\n",
    "print(a)"
   ]
  },
  {
   "cell_type": "markdown",
   "metadata": {},
   "source": [
    "- Теперь мне надо импортировать две переменные. Как это сделать?"
   ]
  },
  {
   "cell_type": "code",
   "execution_count": null,
   "metadata": {},
   "outputs": [],
   "source": [
    "#file1.py\n",
    "a = 10\n",
    "b = 5"
   ]
  },
  {
   "cell_type": "code",
   "execution_count": 3,
   "metadata": {},
   "outputs": [
    {
     "name": "stdout",
     "output_type": "stream",
     "text": [
      "10 5\n"
     ]
    }
   ],
   "source": [
    "#file2.py\n",
    "from file1 import a, b\n",
    "\n",
    "print(a, b)"
   ]
  },
  {
   "cell_type": "markdown",
   "metadata": {},
   "source": [
    "- Допустим 100 переменных, не буду же я их перечислять через запятую"
   ]
  },
  {
   "cell_type": "code",
   "execution_count": null,
   "metadata": {},
   "outputs": [],
   "source": [
    "#file1.py\n",
    "a = 10\n",
    "b = 5\n",
    "с = 1"
   ]
  },
  {
   "cell_type": "code",
   "execution_count": 7,
   "metadata": {},
   "outputs": [
    {
     "name": "stdout",
     "output_type": "stream",
     "text": [
      "10 5 1\n"
     ]
    }
   ],
   "source": [
    "#file2.py\n",
    "from file1 import *\n",
    "\n",
    "print(a, b, с)"
   ]
  },
  {
   "cell_type": "markdown",
   "metadata": {},
   "source": [
    "- Вопрос: а что конкретно происходит при `import`?\n",
    "\n",
    "На самом деле, просто запускается файл. Продемонстрируем:"
   ]
  },
  {
   "cell_type": "code",
   "execution_count": null,
   "metadata": {},
   "outputs": [],
   "source": [
    "#file1.py\n",
    "a = 10\n",
    "b = 5\n",
    "с = 1\n",
    "\n",
    "[print(\"Запустился file1\")]"
   ]
  },
  {
   "cell_type": "code",
   "execution_count": 10,
   "metadata": {},
   "outputs": [
    {
     "name": "stdout",
     "output_type": "stream",
     "text": [
      "Запустился file2\n",
      "10 5 1\n",
      "file2 Закончил работу\n"
     ]
    }
   ],
   "source": [
    "#file2.py\n",
    "print(\"Запустился file2\")\n",
    "from file1 import *\n",
    "\n",
    "print(a, b, с)\n",
    "print(\"file2 Закончил работу\")"
   ]
  },
  {
   "cell_type": "markdown",
   "metadata": {},
   "source": [
    "Если просто запускаются файлы, а что будет, если я напишу несколько `import` одно и того же файла?\n",
    "```python \n",
    "from file1 import *\n",
    "from file1 import *\n",
    "from file1 import *\n",
    "```\n",
    "\n",
    "Повторно файл не будет запускаться, потому что `import` выполняется один раз"
   ]
  },
  {
   "cell_type": "markdown",
   "metadata": {},
   "source": [
    "## Папки"
   ]
  },
  {
   "cell_type": "markdown",
   "metadata": {},
   "source": [
    "- Можем явно указать из какой папки какой файл ипортировать\n",
    "\n",
    "```python\n",
    "from <name_of_foldew>.<name_of_file> import * \n",
    "```"
   ]
  },
  {
   "cell_type": "code",
   "execution_count": 11,
   "metadata": {},
   "outputs": [
    {
     "name": "stdout",
     "output_type": "stream",
     "text": [
      "Запустился file2\n",
      "10 5 1\n",
      "file2 Закончил работу\n"
     ]
    },
    {
     "ename": "NameError",
     "evalue": "name 'c' is not defined",
     "output_type": "error",
     "traceback": [
      "\u001b[0;31m---------------------------------------------------------------------------\u001b[0m",
      "\u001b[0;31mNameError\u001b[0m                                 Traceback (most recent call last)",
      "Cell \u001b[0;32mIn[11], line 3\u001b[0m\n\u001b[1;32m      1\u001b[0m \u001b[38;5;28;01mfrom\u001b[39;00m \u001b[38;5;21;01mfiles\u001b[39;00m\u001b[38;5;21;01m.\u001b[39;00m\u001b[38;5;21;01mfile2\u001b[39;00m \u001b[38;5;28;01mimport\u001b[39;00m \u001b[38;5;241m*\u001b[39m\n\u001b[0;32m----> 3\u001b[0m \u001b[38;5;28mprint\u001b[39m(a, b, \u001b[43mc\u001b[49m)\n",
      "\u001b[0;31mNameError\u001b[0m: name 'c' is not defined"
     ]
    }
   ],
   "source": [
    "from files.file2 import *\n",
    "\n",
    "print(a, b, c)"
   ]
  },
  {
   "cell_type": "markdown",
   "metadata": {},
   "source": [
    "Но не работает. Почему? \n",
    "Потому что в `file2` нужно теперь явно указать из какой папки импортировать, потому что без указани папки испортирутеся файл из рабочей папки (директории). Так как я запустил файл `main`, поменялась рабоча директория, поэтому при попытке импортировать \n",
    "\n",
    "```python\n",
    "from file1 import *\n",
    "```\n",
    " \n",
    "Но в рабочей директории при запуске `main.py` не лежит `file.py`\n",
    "\n",
    "Решит нашу проблему следующий код:\n",
    "```python\n",
    "from .file1 import *\n",
    "```\n",
    "\n",
    "$.$ означает текущую папку (что мы импортируем файл из той же папки, где он найходится)"
   ]
  },
  {
   "cell_type": "markdown",
   "metadata": {},
   "source": [
    "А если я хочу ипортиовать множество файлов из директории, то есть написать подобный код:\n",
    "\n",
    "```python\n",
    "from files import *\n",
    "```\n",
    "\n",
    "Для этого существует специальный файл, который называется `__init__.py`\n",
    "\n",
    "Строчка выше запускает этот файл\n",
    "\n",
    "Папки с файлом `__init__.py` называются **модулями**"
   ]
  }
 ],
 "metadata": {
  "kernelspec": {
   "display_name": "sites_new",
   "language": "python",
   "name": "sites_new"
  },
  "language_info": {
   "codemirror_mode": {
    "name": "ipython",
    "version": 3
   },
   "file_extension": ".py",
   "mimetype": "text/x-python",
   "name": "python",
   "nbconvert_exporter": "python",
   "pygments_lexer": "ipython3",
   "version": "3.10.12"
  }
 },
 "nbformat": 4,
 "nbformat_minor": 2
}
