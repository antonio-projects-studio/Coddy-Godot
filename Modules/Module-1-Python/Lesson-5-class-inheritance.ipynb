{
 "cells": [
  {
   "cell_type": "markdown",
   "metadata": {},
   "source": [
    "# Наследование"
   ]
  },
  {
   "cell_type": "code",
   "execution_count": 18,
   "metadata": {},
   "outputs": [
    {
     "name": "stdout",
     "output_type": "stream",
     "text": [
      "50\n",
      "60\n"
     ]
    }
   ],
   "source": [
    "class Enemy:\n",
    "    level = 1\n",
    "    \n",
    "    def __init__(self, hp_from_user, dm_from_user):\n",
    "        self.hp = hp_from_user\n",
    "        self.dm = dm_from_user\n",
    "        \n",
    "\n",
    "copy_Enemy = Enemy(hp_from_user=50, dm_from_user=15)\n",
    "copy2_Enemy = Enemy(hp_from_user=60, dm_from_user=30)\n",
    "\n",
    "print(copy_Enemy.hp)\n",
    "print(copy2_Enemy.hp)"
   ]
  },
  {
   "cell_type": "markdown",
   "metadata": {},
   "source": [
    "Теперь мы хотим создать класс, который во многом *похож* на класс `Enemy`. Что значит *похож*?\n",
    "1. У него могут быть те же переменные **(атрибуты)** класса, что и у *родителя*. Например, *level*\n",
    "2. У них могут быть те же функции **(методы)** класса, что и у *родителя*. Например, одинаковая логика создания копии **(экземпляра)** класса\n",
    "\n",
    "Назовем его `Archer`"
   ]
  },
  {
   "cell_type": "code",
   "execution_count": 19,
   "metadata": {},
   "outputs": [
    {
     "name": "stdout",
     "output_type": "stream",
     "text": [
      "1\n",
      "15\n",
      "30\n"
     ]
    }
   ],
   "source": [
    "class Archer(Enemy):\n",
    "    pass\n",
    "\n",
    "\n",
    "# Мы можем запустить функцию создания экземпляра, мы её не реализовывали в классе Archer, значит сработает та, что в Enemy\n",
    " \n",
    "copy_Archer = Archer(hp_from_userp=15, dm_from_user=10)\n",
    "copy2_Archer = Archer(hp_from_userp=30, dm_from_user=20)\n",
    "\n",
    "# Как видим связь с предками есть, мы можем получить доступ к переменной level, которая находится в классе Enemy\n",
    "print(copy_Archer.level)\n",
    "\n",
    "print(copy_Archer.hp)\n",
    "print(copy2_Archer.hp)"
   ]
  },
  {
   "cell_type": "markdown",
   "metadata": {},
   "source": [
    "Теперь ответим на несколько вопросов:\n",
    "- Если мы поменяем переменную класса `Enemy`, то она поменяется для его копий. А поменяется ли она для класса `Archer` и его копий?"
   ]
  },
  {
   "cell_type": "code",
   "execution_count": 20,
   "metadata": {},
   "outputs": [
    {
     "name": "stdout",
     "output_type": "stream",
     "text": [
      "2\n",
      "2\n",
      "2\n",
      "2\n",
      "2\n"
     ]
    }
   ],
   "source": [
    "Enemy.level = 2\n",
    "\n",
    "print(copy_Enemy.level)\n",
    "print(copy2_Enemy.level)\n",
    "\n",
    "print(Archer.level)\n",
    "\n",
    "print(copy_Archer.level)\n",
    "print(copy2_Archer.level)\n",
    "\n",
    "# Ответ: да"
   ]
  },
  {
   "cell_type": "markdown",
   "metadata": {},
   "source": [
    "Круто, а какая от этого польза?\n",
    "\n",
    "Теперь мы можем реализовывать один *класс-шаблон*, от которого будут наследоваться остальные. У тех, в свою очередь, будем создавать копии. \n",
    "\n",
    "Получается, чтобы поменять общую переменную для всех структур, нам нужно поменять её только в *родителе* и она поменяется для всех\n",
    "\n",
    "---"
   ]
  },
  {
   "cell_type": "markdown",
   "metadata": {},
   "source": [
    "\n",
    "- Работает ли в обратную сторону? Если мы поменяем переменную *level* у `Archer`, то она поменяется у его экземпляров. А поменяется ли она у `Enemy` и его экземпляров?"
   ]
  },
  {
   "cell_type": "code",
   "execution_count": 21,
   "metadata": {},
   "outputs": [
    {
     "name": "stdout",
     "output_type": "stream",
     "text": [
      "1\n",
      "1\n",
      "2\n",
      "2\n",
      "2\n"
     ]
    }
   ],
   "source": [
    "Archer.level = 1\n",
    "\n",
    "print(copy_Archer.level)\n",
    "print(copy2_Archer.level)\n",
    "\n",
    "print(Enemy.level)\n",
    "\n",
    "print(copy_Enemy.level)\n",
    "print(copy2_Enemy.level)\n",
    "# Ответ: нет"
   ]
  },
  {
   "cell_type": "markdown",
   "metadata": {},
   "source": [
    "А почему так"
   ]
  },
  {
   "cell_type": "markdown",
   "metadata": {},
   "source": [
    "Можем ли мы переопределять методы класса? \n",
    " - Да"
   ]
  },
  {
   "cell_type": "code",
   "execution_count": 14,
   "metadata": {},
   "outputs": [
    {
     "name": "stdout",
     "output_type": "stream",
     "text": [
      "45\n"
     ]
    }
   ],
   "source": [
    "class Archer(Enemy):\n",
    "    def __init__(self, hp_from_userp, dm_from_user):\n",
    "        self.hp = hp * Archer.level\n",
    "        self.dm = dm\n",
    "\n",
    "Archer.level = 3\n",
    "copy_Archer = Archer(hp_from_userp=15, dm_from_user=70)\n",
    "print(copy_Archer.hp)"
   ]
  },
  {
   "cell_type": "markdown",
   "metadata": {},
   "source": [
    "- Прикол!!! В `python` все классы по дефолту наследуются от класса `Object`\n",
    "```python\n",
    "class NPC:\n",
    "    pass\n",
    "```\n",
    "$<=>$\n",
    "```python\n",
    "class NPC(Object):\n",
    "    pass\n",
    "```\n",
    "\n",
    "Это два аналогичных кода"
   ]
  },
  {
   "cell_type": "markdown",
   "metadata": {},
   "source": [
    "- На самом деле, в `python` все \"объекты\", то есть все классы, наследуемые от `Object`\n",
    "\n",
    "Вопрос? А `int` - класс?\n",
    "А `str`?"
   ]
  },
  {
   "cell_type": "code",
   "execution_count": 30,
   "metadata": {},
   "outputs": [
    {
     "name": "stdout",
     "output_type": "stream",
     "text": [
      "<class 'int'>\n",
      "<class 'str'>\n"
     ]
    }
   ],
   "source": [
    "print(type(10))\n",
    "print(type('привет'))"
   ]
  },
  {
   "cell_type": "code",
   "execution_count": 31,
   "metadata": {},
   "outputs": [
    {
     "name": "stdout",
     "output_type": "stream",
     "text": [
      "Привет\n"
     ]
    }
   ],
   "source": [
    "print('привет'.capitalize())\n"
   ]
  },
  {
   "cell_type": "markdown",
   "metadata": {},
   "source": [
    "Да! В `python` все типы данных обернуты в классы. \n",
    "\n",
    "**Это только в `python`**"
   ]
  },
  {
   "cell_type": "markdown",
   "metadata": {},
   "source": [
    "- На самом деле, мы сейчас прикоснулись к очень важному принципу программирования.\n",
    "\n",
    "**ООП** (Объективно-ориентированное программирвоание):\n",
    "1. Наследование\n",
    "2. Полиморфизм\n",
    "3. Инкапсулция"
   ]
  },
  {
   "cell_type": "markdown",
   "metadata": {},
   "source": [
    "- Полиморфизм: это про то, чтобы создавать функции с одинаковыми именнами для разных типов данных\n",
    "\n",
    "в `python` это не предоставлется возможным в контексте одного объекта"
   ]
  },
  {
   "cell_type": "markdown",
   "metadata": {},
   "source": [
    "- Инкапсулция: про разграничение уровней доступа внутри классов данных/методов\n",
    "\n",
    "Есть три уровня:\n",
    "- public (публичный, к нему имеет доступ все)\n",
    "- privat (приватный, к нему имеет доступ только внутри класса)\n",
    "- protected (защищенный, к нему имеют доступ все наследуемые классы)\n",
    "\n",
    "в `python` так таковой инкапсуляции нет, она мнимая, но есть определенные правила:\n",
    "1. private с двумя нижними подчеркиваними с обоих сторон (`__private__`)\n",
    "2. protected с одной слева (`_protected`)\n",
    "3. public без подчеркиваний с каких либо сторон\n"
   ]
  },
  {
   "cell_type": "markdown",
   "metadata": {},
   "source": [
    "## ДЗ"
   ]
  },
  {
   "cell_type": "code",
   "execution_count": 34,
   "metadata": {},
   "outputs": [
    {
     "name": "stdout",
     "output_type": "stream",
     "text": [
      "0\n",
      "100\n",
      "1000\n",
      "0\n",
      "1000\n",
      "10000\n"
     ]
    }
   ],
   "source": [
    "class NPC:\n",
    "    level = 0\n",
    "    _default_speed = 0\n",
    "    \n",
    "    # None - ничего в python \n",
    "    def __init__(self, speed_from_user=None):\n",
    "        self.x = 0\n",
    "        self.h = 0\n",
    "        \n",
    "        if speed_from_user is not None:\n",
    "            self.speed = speed_from_user\n",
    "        else:\n",
    "            self.speed = self._default_speed\n",
    "           \n",
    "        #! тоже самое, но по умному \n",
    "        # self.speed = speed_from_user if speed_from_user is not None else self.default_speed\n",
    "        \n",
    "    def move(self, shift):\n",
    "        self.x = self.x + shift * self.speed\n",
    "        #! по умному\n",
    "        # self.x += shift * self.speed\n",
    "        \n",
    "class AirPlane(NPC):\n",
    "    _default_speed = 100\n",
    "    \n",
    "class Helicopter(NPC):\n",
    "    _default_speed = 10\n",
    "    \n",
    "    def move(self, shift):\n",
    "        self.h = self.h + shift * self.speed\n",
    "    \n",
    "\n",
    "copy_NPC = NPC()\n",
    "print(copy_NPC.speed)\n",
    "\n",
    "copy_AirPlane1 = AirPlane()\n",
    "copy_AirPlane2 = AirPlane(speed_from_user=1000)\n",
    "\n",
    "# выведет дефолтную скорость\n",
    "print(copy_AirPlane1.speed)\n",
    "# выведет скорость от пользователя\n",
    "print(copy_AirPlane2.speed)\n",
    "\n",
    "copy_NPC.move(shift=10)\n",
    "print(copy_NPC.x)\n",
    "    \n",
    "copy_AirPlane1.move(shift=10)\n",
    "copy_AirPlane2.move(shift=10)\n",
    "print(copy_AirPlane1.x)     \n",
    "print(copy_AirPlane2.x)        \n",
    "   "
   ]
  }
 ],
 "metadata": {
  "kernelspec": {
   "display_name": "sites_new",
   "language": "python",
   "name": "sites_new"
  },
  "language_info": {
   "codemirror_mode": {
    "name": "ipython",
    "version": 3
   },
   "file_extension": ".py",
   "mimetype": "text/x-python",
   "name": "python",
   "nbconvert_exporter": "python",
   "pygments_lexer": "ipython3",
   "version": "3.10.12"
  }
 },
 "nbformat": 4,
 "nbformat_minor": 2
}
