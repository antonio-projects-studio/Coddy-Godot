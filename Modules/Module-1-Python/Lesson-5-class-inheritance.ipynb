{
 "cells": [
  {
   "cell_type": "markdown",
   "metadata": {},
   "source": [
    "# Наследование"
   ]
  },
  {
   "cell_type": "code",
   "execution_count": 18,
   "metadata": {},
   "outputs": [
    {
     "name": "stdout",
     "output_type": "stream",
     "text": [
      "50\n",
      "60\n"
     ]
    }
   ],
   "source": [
    "class Enemy:\n",
    "    level = 1\n",
    "    \n",
    "    def __init__(self, hp, dm):\n",
    "        self.hp = hp\n",
    "        self.dm = dm\n",
    "        \n",
    "\n",
    "copy_Enemy = Enemy(hp=50, dm=15)\n",
    "copy2_Enemy = Enemy(hp=60, dm=30)\n",
    "\n",
    "print(copy_Enemy.hp)\n",
    "print(copy2_Enemy.hp)"
   ]
  },
  {
   "cell_type": "markdown",
   "metadata": {},
   "source": [
    "Теперь мы хотим создать класс, который во многом *похож* на класс `Enemy`. Что значит *похож*?\n",
    "1. У него могут быть те же переменные **(атрибуты)** класса, что и у *родителя*. Например, *level*\n",
    "2. У них могут быть те же функции **(методы)** класса, что и у *родителя*. Например, одинаковая логика создания копии **(экземпляра)** класса\n",
    "\n",
    "Назовем его `Archer`"
   ]
  },
  {
   "cell_type": "code",
   "execution_count": 19,
   "metadata": {},
   "outputs": [
    {
     "name": "stdout",
     "output_type": "stream",
     "text": [
      "1\n",
      "15\n",
      "30\n"
     ]
    }
   ],
   "source": [
    "class Archer(Enemy):\n",
    "    pass\n",
    "\n",
    "# Как видим связь с предками есть, мы можем получить доступ к переменной level, которая находится в классе Enemy\n",
    "print(copy_Archer.level)\n",
    "\n",
    "# Мы можем запустить функцию создания экземпляра, мы её не реализовывали в классе Archer, значит сработает та, что в Enemy\n",
    " \n",
    "copy_Archer = Archer(hp=15, dm=10)\n",
    "copy2_Archer = Archer(hp=30, dm=20)\n",
    "print(copy_Archer.hp)\n",
    "print(copy2_Archer.hp)"
   ]
  },
  {
   "cell_type": "markdown",
   "metadata": {},
   "source": [
    "Теперь ответим на несколько вопросов:\n",
    "- Если мы поменяем переменную класса `Enemy`, то она поменяется для его копий. А поменяется ли она для класса `Archer` и его копий?"
   ]
  },
  {
   "cell_type": "code",
   "execution_count": 20,
   "metadata": {},
   "outputs": [
    {
     "name": "stdout",
     "output_type": "stream",
     "text": [
      "2\n",
      "2\n",
      "2\n",
      "2\n",
      "2\n"
     ]
    }
   ],
   "source": [
    "Enemy.level = 2\n",
    "\n",
    "print(copy_Enemy.level)\n",
    "print(copy2_Enemy.level)\n",
    "\n",
    "print(Archer.level)\n",
    "\n",
    "print(copy_Archer.level)\n",
    "print(copy2_Archer.level)\n",
    "\n",
    "# Ответ: да"
   ]
  },
  {
   "cell_type": "markdown",
   "metadata": {},
   "source": [
    "Круто, а какая от этого польза?\n",
    "\n",
    "Теперь мы можем реализовывать один *класс-шаблон*, от которого будут наследоваться остальные. У тех, в свою очередь, будем создавать копии. \n",
    "\n",
    "Получается, чтобы поменять общую переменную для всех структур, нам нужно поменять её только в *родителе* и она поменяется для всех\n",
    "\n",
    "---"
   ]
  },
  {
   "cell_type": "markdown",
   "metadata": {},
   "source": [
    "\n",
    "- Работает ли в обратную сторону? Если мы поменяем переменную *level* у `Archer`, то она поменяется у его экземпляров. А поменяется ли она у `Enemy` и его экземпляров?"
   ]
  },
  {
   "cell_type": "code",
   "execution_count": 21,
   "metadata": {},
   "outputs": [
    {
     "name": "stdout",
     "output_type": "stream",
     "text": [
      "1\n",
      "1\n",
      "2\n",
      "2\n",
      "2\n"
     ]
    }
   ],
   "source": [
    "Archer.level = 1\n",
    "\n",
    "print(copy_Archer.level)\n",
    "print(copy2_Archer.level)\n",
    "\n",
    "print(Enemy.level)\n",
    "\n",
    "print(copy_Enemy.level)\n",
    "print(copy2_Enemy.level)\n",
    "# Ответ: нет"
   ]
  },
  {
   "cell_type": "markdown",
   "metadata": {},
   "source": [
    "А почему так"
   ]
  },
  {
   "cell_type": "markdown",
   "metadata": {},
   "source": [
    "Можем ли мы переопределять методы класса? \n",
    " - Да"
   ]
  },
  {
   "cell_type": "code",
   "execution_count": 14,
   "metadata": {},
   "outputs": [
    {
     "name": "stdout",
     "output_type": "stream",
     "text": [
      "45\n"
     ]
    }
   ],
   "source": [
    "class Archer(Enemy):\n",
    "    def __init__(self, hp, dm):\n",
    "        self.hp = hp * Archer.level\n",
    "        self.dm = dm\n",
    "\n",
    "Archer.level = 3\n",
    "copy_Archer = Archer(hp=15, dm=70)\n",
    "print(copy_Archer.hp)"
   ]
  }
 ],
 "metadata": {
  "kernelspec": {
   "display_name": "sites_new",
   "language": "python",
   "name": "sites_new"
  },
  "language_info": {
   "codemirror_mode": {
    "name": "ipython",
    "version": 3
   },
   "file_extension": ".py",
   "mimetype": "text/x-python",
   "name": "python",
   "nbconvert_exporter": "python",
   "pygments_lexer": "ipython3",
   "version": "3.10.12"
  }
 },
 "nbformat": 4,
 "nbformat_minor": 2
}
