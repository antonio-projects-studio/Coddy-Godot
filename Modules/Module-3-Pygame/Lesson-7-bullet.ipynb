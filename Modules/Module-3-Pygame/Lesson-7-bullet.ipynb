{
 "cells": [
  {
   "cell_type": "markdown",
   "metadata": {},
   "source": [
    "# NPC + Bullet"
   ]
  },
  {
   "cell_type": "markdown",
   "metadata": {},
   "source": [
    "- Как создать NPC, который будет стреляться?\n",
    "\n",
    "1. Создать класс для пули (Bullet)\n",
    "2. Базовые функции"
   ]
  },
  {
   "cell_type": "markdown",
   "metadata": {},
   "source": [
    "Создаем папку `npc` туда положим `npc.py` и `npc_control.py`. У нас поменяются импорты, мы хотим в `main.py` импортировать папку npc целиком:\n",
    "\n",
    "```python\n",
    "#main.py\n",
    "from npc import *\n",
    "```\n",
    "\n",
    "*Напоминание*: запустится файл `__init__.py`, который лежит в импортируемой папке"
   ]
  },
  {
   "cell_type": "code",
   "execution_count": null,
   "metadata": {},
   "outputs": [],
   "source": []
  }
 ],
 "metadata": {
  "language_info": {
   "name": "python"
  }
 },
 "nbformat": 4,
 "nbformat_minor": 2
}
