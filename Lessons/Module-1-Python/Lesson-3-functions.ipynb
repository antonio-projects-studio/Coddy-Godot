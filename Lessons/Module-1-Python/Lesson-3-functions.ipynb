{
 "cells": [
  {
   "cell_type": "markdown",
   "metadata": {},
   "source": [
    "# Функции\n"
   ]
  },
  {
   "cell_type": "markdown",
   "metadata": {},
   "source": [
    "- Синтаксиc объявления и реализации функции:\n",
    "\n",
    "```python\n",
    "def <имя>(<аргументы>:<тип аргумента>, <аргументы>:<тип аргумента> = <значение по умолчанию>) -> <тип данных, который вохвращает функция>:\n",
    "\t|\n",
    "\t| <тело функции>\n",
    "\t|\n",
    "\treturn <то что возвращает функция>\n",
    "```\n",
    "\n",
    "- Пример:\n",
    "\n",
    "```python\n",
    "def func(x:int, y:int = 0) -> int:\n",
    "\treturn x + y\n",
    "```\n",
    "\n",
    "- При вызове функции в программе, делаем это через круглые скобки\n",
    "\n",
    "```python\n",
    "func(...)\n",
    "```\n",
    "\n",
    "- Аналогия функции:\n",
    "\n",
    "---\n"
   ]
  },
  {
   "cell_type": "code",
   "execution_count": 6,
   "metadata": {},
   "outputs": [
    {
     "name": "stdout",
     "output_type": "stream",
     "text": [
      "Результат выполнения функции: 10\n"
     ]
    }
   ],
   "source": [
    "def func(x: int) -> int:\n",
    "    return x * 2\n",
    "\n",
    "\n",
    "result = func(x=5)\n",
    "print(\"Результат выполнения функции:\", result)\n",
    "\n",
    "# print('Результат выполнения функции:', func(x=5))\n",
    "# это тоже самое"
   ]
  },
  {
   "cell_type": "markdown",
   "metadata": {},
   "source": [
    "Мы можем давать значение по умолчанию\n"
   ]
  },
  {
   "cell_type": "code",
   "execution_count": 8,
   "metadata": {},
   "outputs": [
    {
     "name": "stdout",
     "output_type": "stream",
     "text": [
      "Результат выполнения функции по умочанию: 20\n",
      "Результат выполнения функции: 30\n"
     ]
    }
   ],
   "source": [
    "def func(x: int, y: int = 5) -> int:\n",
    "    return (x + y) * 2\n",
    "\n",
    "\n",
    "result1 = func(x=5)\n",
    "print(\"Результат выполнения функции по умочанию:\", result1)\n",
    "\n",
    "result2 = func(x=5, y=10)\n",
    "print(\"Результат выполнения функции:\", result2)"
   ]
  },
  {
   "cell_type": "markdown",
   "metadata": {},
   "source": [
    "выполнение дз\n"
   ]
  },
  {
   "cell_type": "code",
   "execution_count": 11,
   "metadata": {},
   "outputs": [
    {
     "name": "stdout",
     "output_type": "stream",
     "text": [
      "Результат выполнения целочисленное деления: 1\n",
      "Результат выполнения обычного деления: 1.5\n"
     ]
    }
   ],
   "source": [
    "def func(a: int, b: int) -> int:\n",
    "    # целочисленное деление - это два слеша (//)\n",
    "    return a // b\n",
    "\n",
    "\n",
    "result1 = func(a=6, b=4)\n",
    "print(\"Результат выполнения целочисленное деления:\", result1)\n",
    "\n",
    "\n",
    "def func(a: int, b: int) -> float:\n",
    "    # обычное деление - это один слеш (/)\n",
    "    return a / b\n",
    "\n",
    "\n",
    "result2 = func(a=6, b=4)\n",
    "print(\"Результат выполнения обычного деления:\", result2)"
   ]
  },
  {
   "cell_type": "code",
   "execution_count": 14,
   "metadata": {},
   "outputs": [
    {
     "name": "stdout",
     "output_type": "stream",
     "text": [
      "Результат выполнения функции: 7\n"
     ]
    }
   ],
   "source": [
    "def func(a: int, b: int, c: int) -> int:\n",
    "    max_cnt = max(a, b, c)\n",
    "    min_cnt = min(a, b, c)\n",
    "    avr = (min_cnt + max_cnt) // 2\n",
    "\n",
    "    return avr\n",
    "\n",
    "\n",
    "result = func(a=6, b=4, c=10)\n",
    "print(\"Результат выполнения функции:\", result)"
   ]
  },
  {
   "cell_type": "code",
   "execution_count": 18,
   "metadata": {},
   "outputs": [
    {
     "name": "stdout",
     "output_type": "stream",
     "text": [
      "Результат выполнения функции: 43462364\n"
     ]
    }
   ],
   "source": [
    "def func(*args):\n",
    "    max_cnt = max(*args)\n",
    "    return max_cnt\n",
    "\n",
    "\n",
    "result = func(6, 4, 10, 100, 124, 1555, 3, 34, 43462364, 111)\n",
    "print(\"Результат выполнения функции:\", result)"
   ]
  }
 ],
 "metadata": {
  "kernelspec": {
   "display_name": "sites_new",
   "language": "python",
   "name": "sites_new"
  },
  "language_info": {
   "codemirror_mode": {
    "name": "ipython",
    "version": 3
   },
   "file_extension": ".py",
   "mimetype": "text/x-python",
   "name": "python",
   "nbconvert_exporter": "python",
   "pygments_lexer": "ipython3",
   "version": "3.10.12"
  }
 },
 "nbformat": 4,
 "nbformat_minor": 2
}
