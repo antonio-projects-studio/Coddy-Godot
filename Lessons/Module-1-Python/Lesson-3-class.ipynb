{
 "cells": [
  {
   "cell_type": "markdown",
   "metadata": {},
   "source": [
    "# Классы"
   ]
  },
  {
   "cell_type": "markdown",
   "metadata": {},
   "source": [
    "Зачем нужны классы?\n",
    "1. Можно хранить переменные и функции **(методы)** в одном месте\n",
    "2. Можно создавать бесконечное количество копий"
   ]
  },
  {
   "cell_type": "markdown",
   "metadata": {},
   "source": [
    "- Синтаксис:\n",
    "```python\n",
    "class <назваие класса>:\n",
    "\t| <переменные класса>\n",
    "\t| \n",
    "\t| если метод копии класса, то ключевое слово self\n",
    "\t| def func(self, ...):\n",
    "\t|\t|\n",
    "\t|\t|...\n",
    "\t|\n",
    "\t| если метод класса, то ключевое слово cls и надо напистать наверху @classmethod\n",
    "\t| @classmethod\n",
    "\t| def func(cls, ...):\n",
    "\t|\t|\n",
    "\t|\t|...\n",
    "\t|\n",
    "```"
   ]
  },
  {
   "cell_type": "markdown",
   "metadata": {},
   "source": [
    "Мы можем работать с методы класса, пример"
   ]
  },
  {
   "cell_type": "code",
   "execution_count": 4,
   "metadata": {},
   "outputs": [
    {
     "name": "stdout",
     "output_type": "stream",
     "text": [
      "Обращаемся к переменной hp до дамага: 100\n",
      "Обращаемся к переменной hp после дамага: 90\n"
     ]
    }
   ],
   "source": [
    "class Player:\n",
    "    hp = 100\n",
    "    \n",
    "    # необходимо это написать, чтобы показать python, что это функция класса\n",
    "    @classmethod\n",
    "    def damage(cls, dm: int) -> None:\n",
    "        cls.hp = cls.hp - dm\n",
    "        return None\n",
    "        \n",
    "print('Обращаемся к переменной hp до дамага:', Player.hp)\n",
    "# Вызываем метод класса \n",
    "Player.damage(dm=10)\n",
    "print('Обращаемся к переменной hp после дамага:', Player.hp)    "
   ]
  },
  {
   "cell_type": "markdown",
   "metadata": {},
   "source": [
    "Мы будем работать с копиями класса"
   ]
  },
  {
   "cell_type": "code",
   "execution_count": 5,
   "metadata": {},
   "outputs": [
    {
     "name": "stdout",
     "output_type": "stream",
     "text": [
      "Обращаемся к переменной hp до дамага player1: 100\n",
      "Обращаемся к переменной hp до дамага player2: 100\n",
      "Обращаемся к переменной hp после дамага player1: 90\n",
      "Обращаемся к переменной hp после дамага player2: 70\n"
     ]
    }
   ],
   "source": [
    "class Player:\n",
    "    hp = 100\n",
    "    \n",
    "    def damage(self, dm: int) -> None:\n",
    "        self.hp = self.hp - dm\n",
    "        return None\n",
    "    \n",
    "    \n",
    "player1 = Player()\n",
    "player2 = Player()\n",
    "print('Обращаемся к переменной hp до дамага player1:', player1.hp)\n",
    "print('Обращаемся к переменной hp до дамага player2:', player2.hp)\n",
    "# Вызываем метод класса \n",
    "player1.damage(dm=10)\n",
    "player2.damage(dm=30)\n",
    "print('Обращаемся к переменной hp после дамага player1:', player1.hp)  \n",
    "print('Обращаемся к переменной hp после дамага player2:', player2.hp)      "
   ]
  },
  {
   "cell_type": "markdown",
   "metadata": {},
   "source": [
    "Продемонстрируем, что копии напрямую зависят от класса"
   ]
  },
  {
   "cell_type": "code",
   "execution_count": 6,
   "metadata": {},
   "outputs": [
    {
     "name": "stdout",
     "output_type": "stream",
     "text": [
      "Обращаемся к переменной hp до дамага player1: 1000\n",
      "Обращаемся к переменной hp до дамага player2: 1000\n",
      "Обращаемся к переменной hp после дамага player1: 990\n",
      "Обращаемся к переменной hp после дамага player2: 970\n"
     ]
    }
   ],
   "source": [
    "class Player:\n",
    "    hp = 100\n",
    "    \n",
    "    def damage(self, dm: int) -> None:\n",
    "        self.hp = self.hp - dm\n",
    "        return None\n",
    "    \n",
    "# Поменяем переменную hp у класса\n",
    "Player.hp = 1000\n",
    "player1 = Player()\n",
    "player2 = Player()\n",
    "print('Обращаемся к переменной hp до дамага player1:', player1.hp)\n",
    "print('Обращаемся к переменной hp до дамага player2:', player2.hp)\n",
    "# Вызываем метод класса \n",
    "player1.damage(dm=10)\n",
    "player2.damage(dm=30)\n",
    "print('Обращаемся к переменной hp после дамага player1:', player1.hp)  \n",
    "print('Обращаемся к переменной hp после дамага player2:', player2.hp)     "
   ]
  },
  {
   "cell_type": "markdown",
   "metadata": {},
   "source": [
    "Специальная функция для создания копий класса. Она срабатывает тогда и только тогда, когда вы создаете копию\n",
    "\n",
    "```python\n",
    "player = Player(...)\n",
    "```\n",
    "\n",
    "Называется функция `__init__`\n",
    "\n",
    "```python\n",
    "def __init__(self):\n",
    "\t...\n",
    "```\n",
    "\n",
    "Всегда!!! должна принимать self"
   ]
  },
  {
   "cell_type": "code",
   "execution_count": 7,
   "metadata": {},
   "outputs": [
    {
     "name": "stdout",
     "output_type": "stream",
     "text": [
      "Обращаемся к переменной hp до дамага player1: 1000\n",
      "Обращаемся к переменной hp до дамага player2: 500\n",
      "Обращаемся к переменной hp после дамага player1: 990\n",
      "Обращаемся к переменной hp после дамага player2: 470\n"
     ]
    }
   ],
   "source": [
    "class Player:\n",
    "    # это тупо\n",
    "    # hp = 100\n",
    "    \n",
    "    def __init__(self, hp):\n",
    "        self.hp = hp\n",
    "    \n",
    "    def damage(self, dm: int) -> None:\n",
    "        self.hp = self.hp - dm\n",
    "        return None\n",
    "    \n",
    "# Поменяем переменную hp у класса\n",
    "player1 = Player(hp=1000)\n",
    "player2 = Player(hp=500)\n",
    "print('Обращаемся к переменной hp до дамага player1:', player1.hp)\n",
    "print('Обращаемся к переменной hp до дамага player2:', player2.hp)\n",
    "# Вызываем метод класса \n",
    "player1.damage(dm=10)\n",
    "player2.damage(dm=30)\n",
    "print('Обращаемся к переменной hp после дамага player1:', player1.hp)  \n",
    "print('Обращаемся к переменной hp после дамага player2:', player2.hp)     "
   ]
  },
  {
   "cell_type": "code",
   "execution_count": 12,
   "metadata": {},
   "outputs": [
    {
     "name": "stdout",
     "output_type": "stream",
     "text": [
      "Обращаемся к переменной level player1: 1\n",
      "Обращаемся к переменной level player2: 1\n",
      "Обращаемся к переменной hp до дамага player1: 500\n",
      "Обращаемся к переменной hp до дамага player2: 1000\n",
      "Обращаемся к переменной hp после дамага player1: 490\n",
      "Обращаемся к переменной hp после дамага player2: 970\n",
      "Обращаемся к переменной level player1: 2\n",
      "Обращаемся к переменной level player2: 2\n",
      "Обращаемся к переменной hp после дамага player1 на втором уровне: 470\n",
      "Обращаемся к переменной hp после дамага player2 на втором уровне: 910\n"
     ]
    }
   ],
   "source": [
    "class Player:\n",
    "    level = 1\n",
    "    \n",
    "    def __init__(self, hp):\n",
    "        self.hp = hp\n",
    "    \n",
    "    def damage(self, dm: int) -> None:\n",
    "        if self.level == 2:\n",
    "            dm = 2 * dm\n",
    "            \n",
    "        self.hp = self.hp - dm\n",
    "        return None\n",
    "    \n",
    "# Поменяем переменную hp у класса \n",
    "player1 = Player(hp=500)\n",
    "player2 = Player(hp=1000)\n",
    "print('Обращаемся к переменной level player1:', player1.level)\n",
    "print('Обращаемся к переменной level player2:', player2.level)\n",
    "\n",
    "print('Обращаемся к переменной hp до дамага player1:', player1.hp)\n",
    "print('Обращаемся к переменной hp до дамага player2:', player2.hp)\n",
    "# Вызываем метод класса \n",
    "player1.damage(dm=10)\n",
    "player2.damage(dm=30)\n",
    "print('Обращаемся к переменной hp после дамага player1:', player1.hp)  \n",
    "print('Обращаемся к переменной hp после дамага player2:', player2.hp)  \n",
    "\n",
    "# допустим перешли на новый уроыень\n",
    "Player.level = 2\n",
    "print('Обращаемся к переменной level player1:', player1.level)\n",
    "print('Обращаемся к переменной level player2:', player2.level)\n",
    "\n",
    "player1.damage(dm=10)\n",
    "player2.damage(dm=30)\n",
    "print('Обращаемся к переменной hp после дамага player1 на втором уровне:', player1.hp)  \n",
    "print('Обращаемся к переменной hp после дамага player2 на втором уровне:', player2.hp)  "
   ]
  }
 ],
 "metadata": {
  "kernelspec": {
   "display_name": "sites_new",
   "language": "python",
   "name": "sites_new"
  },
  "language_info": {
   "codemirror_mode": {
    "name": "ipython",
    "version": 3
   },
   "file_extension": ".py",
   "mimetype": "text/x-python",
   "name": "python",
   "nbconvert_exporter": "python",
   "pygments_lexer": "ipython3",
   "version": "3.10.12"
  }
 },
 "nbformat": 4,
 "nbformat_minor": 2
}
