{
 "cells": [
  {
   "cell_type": "code",
   "execution_count": 1,
   "metadata": {},
   "outputs": [],
   "source": [
    "from ipynb_settings import *"
   ]
  },
  {
   "cell_type": "markdown",
   "metadata": {},
   "source": [
    "# Алгоритмы"
   ]
  },
  {
   "cell_type": "markdown",
   "metadata": {},
   "source": [
    "Что такое алгоритмы?\n",
    "- Алгоритм — это четкая последовательность действий, выполнение которой дает какой-то заранее известный результат. Простыми словами, это набор инструкций для конкретной задачи."
   ]
  },
  {
   "cell_type": "markdown",
   "metadata": {},
   "source": [
    "- Люди занимаются решением алгоритмов всю жизнь. Сюществуют задачи, за которые вы получите нобелевскую премию и миллион долларов, посмотреть из можно по [ссылке](https://ru.wikipedia.org/wiki/%D0%97%D0%B0%D0%B4%D0%B0%D1%87%D0%B8_%D1%82%D1%8B%D1%81%D1%8F%D1%87%D0%B5%D0%BB%D0%B5%D1%82%D0%B8%D1%8F)"
   ]
  },
  {
   "cell_type": "markdown",
   "metadata": {},
   "source": [
    "Чем различаются алгоритмы?\n",
    "1. Время работы\n",
    "2. Сложность для понимания \n",
    "3. Количество потребляемой памяти"
   ]
  },
  {
   "cell_type": "markdown",
   "metadata": {},
   "source": [
    "Пример алгоритма для создания игр?\n",
    "- Поиск путей"
   ]
  },
  {
   "cell_type": "markdown",
   "metadata": {},
   "source": [
    "Пример на сложность алгоритма\n",
    "1. Есть список элементов \n",
    "\n",
    "```python \n",
    "[1, 3, 4, 5, 0, 10, ...]\n",
    "```\n",
    "\n",
    "Сколько потребуется действий, чтобы найти определенный элемент?\n",
    "\n",
    "- Если массив длиной `n`, то `n` действий\n"
   ]
  },
  {
   "cell_type": "code",
   "execution_count": 2,
   "metadata": {},
   "outputs": [
    {
     "name": "stdout",
     "output_type": "stream",
     "text": [
      "False\n",
      "True\n"
     ]
    }
   ],
   "source": [
    "def findElement(array: list, target) -> bool:\n",
    "    for x in array:\n",
    "        if target == x:\n",
    "            return True\n",
    "        \n",
    "    return False\n",
    "\n",
    "arr = [1, 4, 6, 7, 199, 4]\n",
    "\n",
    "print(findElement(array=arr, target=5))\n",
    "print(findElement(array=arr, target=199))"
   ]
  },
  {
   "cell_type": "markdown",
   "metadata": {},
   "source": [
    "2. Есть список элементов \n",
    "\n",
    "```python \n",
    "[1, 3, 4, 5, 0, 10, ...]\n",
    "```\n",
    "\n",
    "Сколько потребуется действий, чтобы проверить можно ли сложить два числа и получить требуемое?\n",
    "\n",
    "- Мы придумали алгоритм за $n^2$"
   ]
  },
  {
   "cell_type": "code",
   "execution_count": 6,
   "metadata": {},
   "outputs": [
    {
     "name": "stdout",
     "output_type": "stream",
     "text": [
      "True\n",
      "False\n"
     ]
    }
   ],
   "source": [
    "def sumTwoElements(array: list, target) -> bool:\n",
    "    for i in range(len(array)):\n",
    "        for k in range(i, len(array)):\n",
    "            if target == array[i] + array[k]:\n",
    "                return True\n",
    "        \n",
    "    return False\n",
    "\n",
    "arr = [1, 4, 6, 7, 199, 4]\n",
    "\n",
    "print(sumTwoElements(array=arr, target=5))\n",
    "print(sumTwoElements(array=arr, target=1000))"
   ]
  }
 ],
 "metadata": {
  "kernelspec": {
   "display_name": "sites_new",
   "language": "python",
   "name": "sites_new"
  },
  "language_info": {
   "codemirror_mode": {
    "name": "ipython",
    "version": 3
   },
   "file_extension": ".py",
   "mimetype": "text/x-python",
   "name": "python",
   "nbconvert_exporter": "python",
   "pygments_lexer": "ipython3",
   "version": "3.10.12"
  }
 },
 "nbformat": 4,
 "nbformat_minor": 2
}
